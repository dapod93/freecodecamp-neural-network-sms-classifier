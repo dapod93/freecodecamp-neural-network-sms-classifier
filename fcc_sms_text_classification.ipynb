{
  "cells": [
    {
      "cell_type": "code",
      "execution_count": 1,
      "metadata": {
        "id": "8RZOuS9LWQvv"
      },
      "outputs": [
        {
          "name": "stdout",
          "output_type": "stream",
          "text": [
            "Requirement already satisfied: tf-nightly in /home/dapod93/miniconda3/envs/fcc/lib/python3.10/site-packages (2.20.0.dev20250418)\n",
            "Requirement already satisfied: absl-py>=1.0.0 in /home/dapod93/miniconda3/envs/fcc/lib/python3.10/site-packages (from tf-nightly) (2.2.2)\n",
            "Requirement already satisfied: astunparse>=1.6.0 in /home/dapod93/miniconda3/envs/fcc/lib/python3.10/site-packages (from tf-nightly) (1.6.3)\n",
            "Requirement already satisfied: flatbuffers>=24.3.25 in /home/dapod93/miniconda3/envs/fcc/lib/python3.10/site-packages (from tf-nightly) (25.2.10)\n",
            "Requirement already satisfied: gast!=0.5.0,!=0.5.1,!=0.5.2,>=0.2.1 in /home/dapod93/miniconda3/envs/fcc/lib/python3.10/site-packages (from tf-nightly) (0.6.0)\n",
            "Requirement already satisfied: google-pasta>=0.1.1 in /home/dapod93/miniconda3/envs/fcc/lib/python3.10/site-packages (from tf-nightly) (0.2.0)\n",
            "Requirement already satisfied: libclang>=13.0.0 in /home/dapod93/miniconda3/envs/fcc/lib/python3.10/site-packages (from tf-nightly) (18.1.1)\n",
            "Requirement already satisfied: opt-einsum>=2.3.2 in /home/dapod93/miniconda3/envs/fcc/lib/python3.10/site-packages (from tf-nightly) (3.4.0)\n",
            "Requirement already satisfied: packaging in /home/dapod93/miniconda3/envs/fcc/lib/python3.10/site-packages (from tf-nightly) (25.0)\n",
            "Requirement already satisfied: protobuf<6.0.0dev,>=4.21.6 in /home/dapod93/miniconda3/envs/fcc/lib/python3.10/site-packages (from tf-nightly) (4.21.12)\n",
            "Requirement already satisfied: requests<3,>=2.21.0 in /home/dapod93/miniconda3/envs/fcc/lib/python3.10/site-packages (from tf-nightly) (2.32.3)\n",
            "Requirement already satisfied: setuptools in /home/dapod93/miniconda3/envs/fcc/lib/python3.10/site-packages (from tf-nightly) (75.8.0)\n",
            "Requirement already satisfied: six>=1.12.0 in /home/dapod93/miniconda3/envs/fcc/lib/python3.10/site-packages (from tf-nightly) (1.17.0)\n",
            "Requirement already satisfied: termcolor>=1.1.0 in /home/dapod93/miniconda3/envs/fcc/lib/python3.10/site-packages (from tf-nightly) (3.0.1)\n",
            "Requirement already satisfied: typing-extensions>=3.6.6 in /home/dapod93/miniconda3/envs/fcc/lib/python3.10/site-packages (from tf-nightly) (4.13.2)\n",
            "Requirement already satisfied: wrapt>=1.11.0 in /home/dapod93/miniconda3/envs/fcc/lib/python3.10/site-packages (from tf-nightly) (1.17.2)\n",
            "Requirement already satisfied: grpcio<2.0,>=1.24.3 in /home/dapod93/miniconda3/envs/fcc/lib/python3.10/site-packages (from tf-nightly) (1.71.0)\n",
            "Requirement already satisfied: tb-nightly~=2.19.0.a in /home/dapod93/miniconda3/envs/fcc/lib/python3.10/site-packages (from tf-nightly) (2.19.0a20250218)\n",
            "Requirement already satisfied: keras-nightly>=3.6.0.dev in /home/dapod93/miniconda3/envs/fcc/lib/python3.10/site-packages (from tf-nightly) (3.10.0.dev2025042403)\n",
            "Requirement already satisfied: numpy<2.2.0,>=1.26.0 in /home/dapod93/miniconda3/envs/fcc/lib/python3.10/site-packages (from tf-nightly) (2.1.3)\n",
            "Requirement already satisfied: h5py>=3.11.0 in /home/dapod93/miniconda3/envs/fcc/lib/python3.10/site-packages (from tf-nightly) (3.13.0)\n",
            "Requirement already satisfied: ml-dtypes<1.0.0,>=0.5.1 in /home/dapod93/miniconda3/envs/fcc/lib/python3.10/site-packages (from tf-nightly) (0.5.1)\n",
            "Requirement already satisfied: wheel<1.0,>=0.23.0 in /home/dapod93/miniconda3/envs/fcc/lib/python3.10/site-packages (from astunparse>=1.6.0->tf-nightly) (0.45.1)\n",
            "Requirement already satisfied: rich in /home/dapod93/miniconda3/envs/fcc/lib/python3.10/site-packages (from keras-nightly>=3.6.0.dev->tf-nightly) (14.0.0)\n",
            "Requirement already satisfied: namex in /home/dapod93/miniconda3/envs/fcc/lib/python3.10/site-packages (from keras-nightly>=3.6.0.dev->tf-nightly) (0.0.9)\n",
            "Requirement already satisfied: optree in /home/dapod93/miniconda3/envs/fcc/lib/python3.10/site-packages (from keras-nightly>=3.6.0.dev->tf-nightly) (0.15.0)\n",
            "Requirement already satisfied: charset-normalizer<4,>=2 in /home/dapod93/miniconda3/envs/fcc/lib/python3.10/site-packages (from requests<3,>=2.21.0->tf-nightly) (3.4.1)\n",
            "Requirement already satisfied: idna<4,>=2.5 in /home/dapod93/miniconda3/envs/fcc/lib/python3.10/site-packages (from requests<3,>=2.21.0->tf-nightly) (3.10)\n",
            "Requirement already satisfied: urllib3<3,>=1.21.1 in /home/dapod93/miniconda3/envs/fcc/lib/python3.10/site-packages (from requests<3,>=2.21.0->tf-nightly) (2.4.0)\n",
            "Requirement already satisfied: certifi>=2017.4.17 in /home/dapod93/miniconda3/envs/fcc/lib/python3.10/site-packages (from requests<3,>=2.21.0->tf-nightly) (2025.1.31)\n",
            "Requirement already satisfied: markdown>=2.6.8 in /home/dapod93/miniconda3/envs/fcc/lib/python3.10/site-packages (from tb-nightly~=2.19.0.a->tf-nightly) (3.8)\n",
            "Requirement already satisfied: tensorboard-data-server<0.8.0,>=0.7.0 in /home/dapod93/miniconda3/envs/fcc/lib/python3.10/site-packages (from tb-nightly~=2.19.0.a->tf-nightly) (0.7.2)\n",
            "Requirement already satisfied: werkzeug>=1.0.1 in /home/dapod93/miniconda3/envs/fcc/lib/python3.10/site-packages (from tb-nightly~=2.19.0.a->tf-nightly) (3.1.3)\n",
            "Requirement already satisfied: MarkupSafe>=2.1.1 in /home/dapod93/miniconda3/envs/fcc/lib/python3.10/site-packages (from werkzeug>=1.0.1->tb-nightly~=2.19.0.a->tf-nightly) (3.0.2)\n",
            "Requirement already satisfied: markdown-it-py>=2.2.0 in /home/dapod93/miniconda3/envs/fcc/lib/python3.10/site-packages (from rich->keras-nightly>=3.6.0.dev->tf-nightly) (3.0.0)\n",
            "Requirement already satisfied: pygments<3.0.0,>=2.13.0 in /home/dapod93/miniconda3/envs/fcc/lib/python3.10/site-packages (from rich->keras-nightly>=3.6.0.dev->tf-nightly) (2.19.1)\n",
            "Requirement already satisfied: mdurl~=0.1 in /home/dapod93/miniconda3/envs/fcc/lib/python3.10/site-packages (from markdown-it-py>=2.2.0->rich->keras-nightly>=3.6.0.dev->tf-nightly) (0.1.2)\n"
          ]
        },
        {
          "name": "stderr",
          "output_type": "stream",
          "text": [
            "2025-04-25 18:02:59.185651: I tensorflow/core/util/port.cc:153] oneDNN custom operations are on. You may see slightly different numerical results due to floating-point round-off errors from different computation orders. To turn them off, set the environment variable `TF_ENABLE_ONEDNN_OPTS=0`.\n",
            "2025-04-25 18:02:59.190632: I external/local_xla/xla/tsl/cuda/cudart_stub.cc:32] Could not find cuda drivers on your machine, GPU will not be used.\n",
            "2025-04-25 18:02:59.609920: I tensorflow/core/platform/cpu_feature_guard.cc:210] This TensorFlow binary is optimized to use available CPU instructions in performance-critical operations.\n",
            "To enable the following instructions: AVX2 AVX_VNNI FMA, in other operations, rebuild TensorFlow with the appropriate compiler flags.\n",
            "2025-04-25 18:03:01.351279: I tensorflow/core/util/port.cc:153] oneDNN custom operations are on. You may see slightly different numerical results due to floating-point round-off errors from different computation orders. To turn them off, set the environment variable `TF_ENABLE_ONEDNN_OPTS=0`.\n",
            "2025-04-25 18:03:01.353428: I external/local_xla/xla/tsl/cuda/cudart_stub.cc:32] Could not find cuda drivers on your machine, GPU will not be used.\n"
          ]
        },
        {
          "name": "stdout",
          "output_type": "stream",
          "text": [
            "Requirement already satisfied: tensorflow-datasets in /home/dapod93/miniconda3/envs/fcc/lib/python3.10/site-packages (4.9.8)\n",
            "Requirement already satisfied: absl-py in /home/dapod93/miniconda3/envs/fcc/lib/python3.10/site-packages (from tensorflow-datasets) (2.2.2)\n",
            "Requirement already satisfied: array_record>=0.5.0 in /home/dapod93/miniconda3/envs/fcc/lib/python3.10/site-packages (from tensorflow-datasets) (0.7.1)\n",
            "Requirement already satisfied: dm-tree in /home/dapod93/miniconda3/envs/fcc/lib/python3.10/site-packages (from tensorflow-datasets) (0.1.9)\n",
            "Requirement already satisfied: etils>=1.6.0 in /home/dapod93/miniconda3/envs/fcc/lib/python3.10/site-packages (from etils[edc,enp,epath,epy,etree]>=1.6.0; python_version < \"3.11\"->tensorflow-datasets) (1.12.2)\n",
            "Requirement already satisfied: immutabledict in /home/dapod93/miniconda3/envs/fcc/lib/python3.10/site-packages (from tensorflow-datasets) (4.2.1)\n",
            "Requirement already satisfied: numpy in /home/dapod93/miniconda3/envs/fcc/lib/python3.10/site-packages (from tensorflow-datasets) (2.1.3)\n",
            "Requirement already satisfied: promise in /home/dapod93/miniconda3/envs/fcc/lib/python3.10/site-packages (from tensorflow-datasets) (2.3)\n",
            "Requirement already satisfied: protobuf>=3.20 in /home/dapod93/miniconda3/envs/fcc/lib/python3.10/site-packages (from tensorflow-datasets) (4.21.12)\n",
            "Requirement already satisfied: psutil in /home/dapod93/miniconda3/envs/fcc/lib/python3.10/site-packages (from tensorflow-datasets) (7.0.0)\n",
            "Requirement already satisfied: pyarrow in /home/dapod93/miniconda3/envs/fcc/lib/python3.10/site-packages (from tensorflow-datasets) (19.0.1)\n",
            "Requirement already satisfied: requests>=2.19.0 in /home/dapod93/miniconda3/envs/fcc/lib/python3.10/site-packages (from tensorflow-datasets) (2.32.3)\n",
            "Requirement already satisfied: simple_parsing in /home/dapod93/miniconda3/envs/fcc/lib/python3.10/site-packages (from tensorflow-datasets) (0.1.7)\n",
            "Requirement already satisfied: tensorflow-metadata in /home/dapod93/miniconda3/envs/fcc/lib/python3.10/site-packages (from tensorflow-datasets) (1.17.1)\n",
            "Requirement already satisfied: termcolor in /home/dapod93/miniconda3/envs/fcc/lib/python3.10/site-packages (from tensorflow-datasets) (3.0.1)\n",
            "Requirement already satisfied: toml in /home/dapod93/miniconda3/envs/fcc/lib/python3.10/site-packages (from tensorflow-datasets) (0.10.2)\n",
            "Requirement already satisfied: tqdm in /home/dapod93/miniconda3/envs/fcc/lib/python3.10/site-packages (from tensorflow-datasets) (4.67.1)\n",
            "Requirement already satisfied: wrapt in /home/dapod93/miniconda3/envs/fcc/lib/python3.10/site-packages (from tensorflow-datasets) (1.17.2)\n",
            "Requirement already satisfied: einops in /home/dapod93/miniconda3/envs/fcc/lib/python3.10/site-packages (from etils[edc,enp,epath,epy,etree]>=1.6.0; python_version < \"3.11\"->tensorflow-datasets) (0.8.1)\n",
            "Requirement already satisfied: fsspec in /home/dapod93/miniconda3/envs/fcc/lib/python3.10/site-packages (from etils[edc,enp,epath,epy,etree]>=1.6.0; python_version < \"3.11\"->tensorflow-datasets) (2025.3.2)\n",
            "Requirement already satisfied: importlib_resources in /home/dapod93/miniconda3/envs/fcc/lib/python3.10/site-packages (from etils[edc,enp,epath,epy,etree]>=1.6.0; python_version < \"3.11\"->tensorflow-datasets) (6.5.2)\n",
            "Requirement already satisfied: typing_extensions in /home/dapod93/miniconda3/envs/fcc/lib/python3.10/site-packages (from etils[edc,enp,epath,epy,etree]>=1.6.0; python_version < \"3.11\"->tensorflow-datasets) (4.13.2)\n",
            "Requirement already satisfied: zipp in /home/dapod93/miniconda3/envs/fcc/lib/python3.10/site-packages (from etils[edc,enp,epath,epy,etree]>=1.6.0; python_version < \"3.11\"->tensorflow-datasets) (3.21.0)\n",
            "Requirement already satisfied: charset-normalizer<4,>=2 in /home/dapod93/miniconda3/envs/fcc/lib/python3.10/site-packages (from requests>=2.19.0->tensorflow-datasets) (3.4.1)\n",
            "Requirement already satisfied: idna<4,>=2.5 in /home/dapod93/miniconda3/envs/fcc/lib/python3.10/site-packages (from requests>=2.19.0->tensorflow-datasets) (3.10)\n",
            "Requirement already satisfied: urllib3<3,>=1.21.1 in /home/dapod93/miniconda3/envs/fcc/lib/python3.10/site-packages (from requests>=2.19.0->tensorflow-datasets) (2.4.0)\n",
            "Requirement already satisfied: certifi>=2017.4.17 in /home/dapod93/miniconda3/envs/fcc/lib/python3.10/site-packages (from requests>=2.19.0->tensorflow-datasets) (2025.1.31)\n",
            "Requirement already satisfied: attrs>=18.2.0 in /home/dapod93/miniconda3/envs/fcc/lib/python3.10/site-packages (from dm-tree->tensorflow-datasets) (25.3.0)\n",
            "Requirement already satisfied: six in /home/dapod93/miniconda3/envs/fcc/lib/python3.10/site-packages (from promise->tensorflow-datasets) (1.17.0)\n",
            "Requirement already satisfied: docstring-parser<1.0,>=0.15 in /home/dapod93/miniconda3/envs/fcc/lib/python3.10/site-packages (from simple_parsing->tensorflow-datasets) (0.16)\n",
            "2.20.0-dev20250418\n"
          ]
        }
      ],
      "source": [
        "# import libraries\n",
        "try:\n",
        "  # %tensorflow_version only exists in Colab.\n",
        "  !pip install tf-nightly\n",
        "except Exception:\n",
        "  pass\n",
        "import tensorflow as tf\n",
        "import pandas as pd\n",
        "from tensorflow import keras\n",
        "!pip install tensorflow-datasets\n",
        "import tensorflow_datasets as tfds\n",
        "import numpy as np\n",
        "import matplotlib.pyplot as plt\n",
        "\n",
        "print(tf.__version__)"
      ]
    },
    {
      "cell_type": "code",
      "execution_count": 2,
      "metadata": {
        "id": "lMHwYXHXCar3"
      },
      "outputs": [
        {
          "name": "stdout",
          "output_type": "stream",
          "text": [
            "--2025-04-25 18:03:02--  https://cdn.freecodecamp.org/project-data/sms/train-data.tsv\n",
            "Resolving cdn.freecodecamp.org (cdn.freecodecamp.org)... 104.26.2.33, 172.67.70.149, 104.26.3.33, ...\n",
            "Connecting to cdn.freecodecamp.org (cdn.freecodecamp.org)|104.26.2.33|:443... connected.\n",
            "HTTP request sent, awaiting response... 200 OK\n",
            "Length: 358233 (350K) [text/tab-separated-values]\n",
            "Saving to: ‘train-data.tsv.1’\n",
            "\n",
            "train-data.tsv.1    100%[===================>] 349.84K  --.-KB/s    in 0.06s   \n",
            "\n",
            "2025-04-25 18:03:03 (6.02 MB/s) - ‘train-data.tsv.1’ saved [358233/358233]\n",
            "\n",
            "--2025-04-25 18:03:03--  https://cdn.freecodecamp.org/project-data/sms/valid-data.tsv\n",
            "Resolving cdn.freecodecamp.org (cdn.freecodecamp.org)... 104.26.2.33, 172.67.70.149, 104.26.3.33, ...\n",
            "Connecting to cdn.freecodecamp.org (cdn.freecodecamp.org)|104.26.2.33|:443... connected.\n",
            "HTTP request sent, awaiting response... 200 OK\n",
            "Length: 118774 (116K) [text/tab-separated-values]\n",
            "Saving to: ‘valid-data.tsv.1’\n",
            "\n",
            "valid-data.tsv.1    100%[===================>] 115.99K  --.-KB/s    in 0.02s   \n",
            "\n",
            "2025-04-25 18:03:03 (6.01 MB/s) - ‘valid-data.tsv.1’ saved [118774/118774]\n",
            "\n"
          ]
        }
      ],
      "source": [
        "# get data files\n",
        "!wget https://cdn.freecodecamp.org/project-data/sms/train-data.tsv\n",
        "!wget https://cdn.freecodecamp.org/project-data/sms/valid-data.tsv\n",
        "\n",
        "train_file_path = \"train-data.tsv\"\n",
        "test_file_path = \"valid-data.tsv\""
      ]
    },
    {
      "cell_type": "code",
      "execution_count": null,
      "metadata": {
        "id": "J9tD9yACG6M9"
      },
      "outputs": [],
      "source": [
        "# function to predict messages based on model\n",
        "# (should return list containing prediction and label, ex. [0.008318834938108921, 'ham'])\n",
        "def predict_message(pred_text):\n",
        "\n",
        "\n",
        "\n",
        "  return (prediction)\n",
        "\n",
        "pred_text = \"how are you doing today?\"\n",
        "\n",
        "prediction = predict_message(pred_text)\n",
        "print(prediction)"
      ]
    },
    {
      "cell_type": "code",
      "execution_count": null,
      "metadata": {
        "id": "Dxotov85SjsC"
      },
      "outputs": [],
      "source": [
        "# Run this cell to test your function and model. Do not modify contents.\n",
        "def test_predictions():\n",
        "  test_messages = [\"how are you doing today\",\n",
        "                   \"sale today! to stop texts call 98912460324\",\n",
        "                   \"i dont want to go. can we try it a different day? available sat\",\n",
        "                   \"our new mobile video service is live. just install on your phone to start watching.\",\n",
        "                   \"you have won £1000 cash! call to claim your prize.\",\n",
        "                   \"i'll bring it tomorrow. don't forget the milk.\",\n",
        "                   \"wow, is your arm alright. that happened to me one time too\"\n",
        "                  ]\n",
        "\n",
        "  test_answers = [\"ham\", \"spam\", \"ham\", \"spam\", \"spam\", \"ham\", \"ham\"]\n",
        "  passed = True\n",
        "\n",
        "  for msg, ans in zip(test_messages, test_answers):\n",
        "    prediction = predict_message(msg)\n",
        "    if prediction[1] != ans:\n",
        "      passed = False\n",
        "\n",
        "  if passed:\n",
        "    print(\"You passed the challenge. Great job!\")\n",
        "  else:\n",
        "    print(\"You haven't passed yet. Keep trying.\")\n",
        "\n",
        "test_predictions()"
      ]
    }
  ],
  "metadata": {
    "colab": {
      "name": "fcc_sms_text_classification.ipynb",
      "private_outputs": true,
      "provenance": [],
      "toc_visible": true
    },
    "kernelspec": {
      "display_name": "fcc",
      "language": "python",
      "name": "python3"
    },
    "language_info": {
      "codemirror_mode": {
        "name": "ipython",
        "version": 3
      },
      "file_extension": ".py",
      "mimetype": "text/x-python",
      "name": "python",
      "nbconvert_exporter": "python",
      "pygments_lexer": "ipython3",
      "version": "3.10.16"
    }
  },
  "nbformat": 4,
  "nbformat_minor": 0
}
