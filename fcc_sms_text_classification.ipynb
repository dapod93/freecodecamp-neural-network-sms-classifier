{
  "cells": [
    {
      "cell_type": "code",
      "execution_count": 37,
      "metadata": {
        "id": "8RZOuS9LWQvv"
      },
      "outputs": [
        {
          "name": "stdout",
          "output_type": "stream",
          "text": [
            "Requirement already satisfied: tf-nightly in /home/dapod93/miniconda3/envs/fcc/lib/python3.10/site-packages (2.20.0.dev20250418)\n",
            "Requirement already satisfied: absl-py>=1.0.0 in /home/dapod93/miniconda3/envs/fcc/lib/python3.10/site-packages (from tf-nightly) (2.2.2)\n",
            "Requirement already satisfied: astunparse>=1.6.0 in /home/dapod93/miniconda3/envs/fcc/lib/python3.10/site-packages (from tf-nightly) (1.6.3)\n",
            "Requirement already satisfied: flatbuffers>=24.3.25 in /home/dapod93/miniconda3/envs/fcc/lib/python3.10/site-packages (from tf-nightly) (25.2.10)\n",
            "Requirement already satisfied: gast!=0.5.0,!=0.5.1,!=0.5.2,>=0.2.1 in /home/dapod93/miniconda3/envs/fcc/lib/python3.10/site-packages (from tf-nightly) (0.6.0)\n",
            "Requirement already satisfied: google-pasta>=0.1.1 in /home/dapod93/miniconda3/envs/fcc/lib/python3.10/site-packages (from tf-nightly) (0.2.0)\n",
            "Requirement already satisfied: libclang>=13.0.0 in /home/dapod93/miniconda3/envs/fcc/lib/python3.10/site-packages (from tf-nightly) (18.1.1)\n",
            "Requirement already satisfied: opt-einsum>=2.3.2 in /home/dapod93/miniconda3/envs/fcc/lib/python3.10/site-packages (from tf-nightly) (3.4.0)\n",
            "Requirement already satisfied: packaging in /home/dapod93/miniconda3/envs/fcc/lib/python3.10/site-packages (from tf-nightly) (25.0)\n",
            "Requirement already satisfied: protobuf<6.0.0dev,>=4.21.6 in /home/dapod93/miniconda3/envs/fcc/lib/python3.10/site-packages (from tf-nightly) (4.21.12)\n",
            "Requirement already satisfied: requests<3,>=2.21.0 in /home/dapod93/miniconda3/envs/fcc/lib/python3.10/site-packages (from tf-nightly) (2.32.3)\n",
            "Requirement already satisfied: setuptools in /home/dapod93/miniconda3/envs/fcc/lib/python3.10/site-packages (from tf-nightly) (75.8.0)\n",
            "Requirement already satisfied: six>=1.12.0 in /home/dapod93/miniconda3/envs/fcc/lib/python3.10/site-packages (from tf-nightly) (1.17.0)\n",
            "Requirement already satisfied: termcolor>=1.1.0 in /home/dapod93/miniconda3/envs/fcc/lib/python3.10/site-packages (from tf-nightly) (3.0.1)\n",
            "Requirement already satisfied: typing-extensions>=3.6.6 in /home/dapod93/miniconda3/envs/fcc/lib/python3.10/site-packages (from tf-nightly) (4.13.2)\n",
            "Requirement already satisfied: wrapt>=1.11.0 in /home/dapod93/miniconda3/envs/fcc/lib/python3.10/site-packages (from tf-nightly) (1.17.2)\n",
            "Requirement already satisfied: grpcio<2.0,>=1.24.3 in /home/dapod93/miniconda3/envs/fcc/lib/python3.10/site-packages (from tf-nightly) (1.71.0)\n",
            "Requirement already satisfied: tb-nightly~=2.19.0.a in /home/dapod93/miniconda3/envs/fcc/lib/python3.10/site-packages (from tf-nightly) (2.19.0a20250218)\n",
            "Requirement already satisfied: keras-nightly>=3.6.0.dev in /home/dapod93/miniconda3/envs/fcc/lib/python3.10/site-packages (from tf-nightly) (3.10.0.dev2025042403)\n",
            "Requirement already satisfied: numpy<2.2.0,>=1.26.0 in /home/dapod93/miniconda3/envs/fcc/lib/python3.10/site-packages (from tf-nightly) (2.1.3)\n",
            "Requirement already satisfied: h5py>=3.11.0 in /home/dapod93/miniconda3/envs/fcc/lib/python3.10/site-packages (from tf-nightly) (3.13.0)\n",
            "Requirement already satisfied: ml-dtypes<1.0.0,>=0.5.1 in /home/dapod93/miniconda3/envs/fcc/lib/python3.10/site-packages (from tf-nightly) (0.5.1)\n",
            "Requirement already satisfied: wheel<1.0,>=0.23.0 in /home/dapod93/miniconda3/envs/fcc/lib/python3.10/site-packages (from astunparse>=1.6.0->tf-nightly) (0.45.1)\n",
            "Requirement already satisfied: rich in /home/dapod93/miniconda3/envs/fcc/lib/python3.10/site-packages (from keras-nightly>=3.6.0.dev->tf-nightly) (14.0.0)\n",
            "Requirement already satisfied: namex in /home/dapod93/miniconda3/envs/fcc/lib/python3.10/site-packages (from keras-nightly>=3.6.0.dev->tf-nightly) (0.0.9)\n",
            "Requirement already satisfied: optree in /home/dapod93/miniconda3/envs/fcc/lib/python3.10/site-packages (from keras-nightly>=3.6.0.dev->tf-nightly) (0.15.0)\n",
            "Requirement already satisfied: charset-normalizer<4,>=2 in /home/dapod93/miniconda3/envs/fcc/lib/python3.10/site-packages (from requests<3,>=2.21.0->tf-nightly) (3.4.1)\n",
            "Requirement already satisfied: idna<4,>=2.5 in /home/dapod93/miniconda3/envs/fcc/lib/python3.10/site-packages (from requests<3,>=2.21.0->tf-nightly) (3.10)\n",
            "Requirement already satisfied: urllib3<3,>=1.21.1 in /home/dapod93/miniconda3/envs/fcc/lib/python3.10/site-packages (from requests<3,>=2.21.0->tf-nightly) (2.4.0)\n",
            "Requirement already satisfied: certifi>=2017.4.17 in /home/dapod93/miniconda3/envs/fcc/lib/python3.10/site-packages (from requests<3,>=2.21.0->tf-nightly) (2025.1.31)\n",
            "Requirement already satisfied: markdown>=2.6.8 in /home/dapod93/miniconda3/envs/fcc/lib/python3.10/site-packages (from tb-nightly~=2.19.0.a->tf-nightly) (3.8)\n",
            "Requirement already satisfied: tensorboard-data-server<0.8.0,>=0.7.0 in /home/dapod93/miniconda3/envs/fcc/lib/python3.10/site-packages (from tb-nightly~=2.19.0.a->tf-nightly) (0.7.2)\n",
            "Requirement already satisfied: werkzeug>=1.0.1 in /home/dapod93/miniconda3/envs/fcc/lib/python3.10/site-packages (from tb-nightly~=2.19.0.a->tf-nightly) (3.1.3)\n",
            "Requirement already satisfied: MarkupSafe>=2.1.1 in /home/dapod93/miniconda3/envs/fcc/lib/python3.10/site-packages (from werkzeug>=1.0.1->tb-nightly~=2.19.0.a->tf-nightly) (3.0.2)\n",
            "Requirement already satisfied: markdown-it-py>=2.2.0 in /home/dapod93/miniconda3/envs/fcc/lib/python3.10/site-packages (from rich->keras-nightly>=3.6.0.dev->tf-nightly) (3.0.0)\n",
            "Requirement already satisfied: pygments<3.0.0,>=2.13.0 in /home/dapod93/miniconda3/envs/fcc/lib/python3.10/site-packages (from rich->keras-nightly>=3.6.0.dev->tf-nightly) (2.19.1)\n",
            "Requirement already satisfied: mdurl~=0.1 in /home/dapod93/miniconda3/envs/fcc/lib/python3.10/site-packages (from markdown-it-py>=2.2.0->rich->keras-nightly>=3.6.0.dev->tf-nightly) (0.1.2)\n",
            "Requirement already satisfied: tensorflow-datasets in /home/dapod93/miniconda3/envs/fcc/lib/python3.10/site-packages (4.9.8)\n",
            "Requirement already satisfied: absl-py in /home/dapod93/miniconda3/envs/fcc/lib/python3.10/site-packages (from tensorflow-datasets) (2.2.2)\n",
            "Requirement already satisfied: array_record>=0.5.0 in /home/dapod93/miniconda3/envs/fcc/lib/python3.10/site-packages (from tensorflow-datasets) (0.7.1)\n",
            "Requirement already satisfied: dm-tree in /home/dapod93/miniconda3/envs/fcc/lib/python3.10/site-packages (from tensorflow-datasets) (0.1.9)\n",
            "Requirement already satisfied: etils>=1.6.0 in /home/dapod93/miniconda3/envs/fcc/lib/python3.10/site-packages (from etils[edc,enp,epath,epy,etree]>=1.6.0; python_version < \"3.11\"->tensorflow-datasets) (1.12.2)\n",
            "Requirement already satisfied: immutabledict in /home/dapod93/miniconda3/envs/fcc/lib/python3.10/site-packages (from tensorflow-datasets) (4.2.1)\n",
            "Requirement already satisfied: numpy in /home/dapod93/miniconda3/envs/fcc/lib/python3.10/site-packages (from tensorflow-datasets) (2.1.3)\n",
            "Requirement already satisfied: promise in /home/dapod93/miniconda3/envs/fcc/lib/python3.10/site-packages (from tensorflow-datasets) (2.3)\n",
            "Requirement already satisfied: protobuf>=3.20 in /home/dapod93/miniconda3/envs/fcc/lib/python3.10/site-packages (from tensorflow-datasets) (4.21.12)\n",
            "Requirement already satisfied: psutil in /home/dapod93/miniconda3/envs/fcc/lib/python3.10/site-packages (from tensorflow-datasets) (7.0.0)\n",
            "Requirement already satisfied: pyarrow in /home/dapod93/miniconda3/envs/fcc/lib/python3.10/site-packages (from tensorflow-datasets) (19.0.1)\n",
            "Requirement already satisfied: requests>=2.19.0 in /home/dapod93/miniconda3/envs/fcc/lib/python3.10/site-packages (from tensorflow-datasets) (2.32.3)\n",
            "Requirement already satisfied: simple_parsing in /home/dapod93/miniconda3/envs/fcc/lib/python3.10/site-packages (from tensorflow-datasets) (0.1.7)\n",
            "Requirement already satisfied: tensorflow-metadata in /home/dapod93/miniconda3/envs/fcc/lib/python3.10/site-packages (from tensorflow-datasets) (1.17.1)\n",
            "Requirement already satisfied: termcolor in /home/dapod93/miniconda3/envs/fcc/lib/python3.10/site-packages (from tensorflow-datasets) (3.0.1)\n",
            "Requirement already satisfied: toml in /home/dapod93/miniconda3/envs/fcc/lib/python3.10/site-packages (from tensorflow-datasets) (0.10.2)\n",
            "Requirement already satisfied: tqdm in /home/dapod93/miniconda3/envs/fcc/lib/python3.10/site-packages (from tensorflow-datasets) (4.67.1)\n",
            "Requirement already satisfied: wrapt in /home/dapod93/miniconda3/envs/fcc/lib/python3.10/site-packages (from tensorflow-datasets) (1.17.2)\n",
            "Requirement already satisfied: typing_extensions in /home/dapod93/miniconda3/envs/fcc/lib/python3.10/site-packages (from etils[edc,enp,epath,epy,etree]>=1.6.0; python_version < \"3.11\"->tensorflow-datasets) (4.13.2)\n",
            "Requirement already satisfied: fsspec in /home/dapod93/miniconda3/envs/fcc/lib/python3.10/site-packages (from etils[edc,enp,epath,epy,etree]>=1.6.0; python_version < \"3.11\"->tensorflow-datasets) (2025.3.2)\n",
            "Requirement already satisfied: importlib_resources in /home/dapod93/miniconda3/envs/fcc/lib/python3.10/site-packages (from etils[edc,enp,epath,epy,etree]>=1.6.0; python_version < \"3.11\"->tensorflow-datasets) (6.5.2)\n",
            "Requirement already satisfied: zipp in /home/dapod93/miniconda3/envs/fcc/lib/python3.10/site-packages (from etils[edc,enp,epath,epy,etree]>=1.6.0; python_version < \"3.11\"->tensorflow-datasets) (3.21.0)\n",
            "Requirement already satisfied: einops in /home/dapod93/miniconda3/envs/fcc/lib/python3.10/site-packages (from etils[edc,enp,epath,epy,etree]>=1.6.0; python_version < \"3.11\"->tensorflow-datasets) (0.8.1)\n",
            "Requirement already satisfied: charset-normalizer<4,>=2 in /home/dapod93/miniconda3/envs/fcc/lib/python3.10/site-packages (from requests>=2.19.0->tensorflow-datasets) (3.4.1)\n",
            "Requirement already satisfied: idna<4,>=2.5 in /home/dapod93/miniconda3/envs/fcc/lib/python3.10/site-packages (from requests>=2.19.0->tensorflow-datasets) (3.10)\n",
            "Requirement already satisfied: urllib3<3,>=1.21.1 in /home/dapod93/miniconda3/envs/fcc/lib/python3.10/site-packages (from requests>=2.19.0->tensorflow-datasets) (2.4.0)\n",
            "Requirement already satisfied: certifi>=2017.4.17 in /home/dapod93/miniconda3/envs/fcc/lib/python3.10/site-packages (from requests>=2.19.0->tensorflow-datasets) (2025.1.31)\n",
            "Requirement already satisfied: attrs>=18.2.0 in /home/dapod93/miniconda3/envs/fcc/lib/python3.10/site-packages (from dm-tree->tensorflow-datasets) (25.3.0)\n",
            "Requirement already satisfied: six in /home/dapod93/miniconda3/envs/fcc/lib/python3.10/site-packages (from promise->tensorflow-datasets) (1.17.0)\n",
            "Requirement already satisfied: docstring-parser<1.0,>=0.15 in /home/dapod93/miniconda3/envs/fcc/lib/python3.10/site-packages (from simple_parsing->tensorflow-datasets) (0.16)\n",
            "2.20.0-dev20250418\n"
          ]
        }
      ],
      "source": [
        "# import libraries\n",
        "try:\n",
        "  # %tensorflow_version only exists in Colab.\n",
        "  !pip install tf-nightly\n",
        "except Exception:\n",
        "  pass\n",
        "!pip install tensorflow-datasets\n",
        "import tensorflow as tf\n",
        "import pandas as pd\n",
        "import numpy as np\n",
        "\n",
        "from tensorflow.keras import Sequential\n",
        "from tensorflow.keras.layers import Dense, GlobalMaxPooling1D, TextVectorization, Embedding, Conv1D\n",
        "\n",
        "print(tf.__version__)"
      ]
    },
    {
      "cell_type": "code",
      "execution_count": 2,
      "metadata": {
        "id": "lMHwYXHXCar3"
      },
      "outputs": [
        {
          "name": "stdout",
          "output_type": "stream",
          "text": [
            "--2025-04-25 18:03:02--  https://cdn.freecodecamp.org/project-data/sms/train-data.tsv\n",
            "Resolving cdn.freecodecamp.org (cdn.freecodecamp.org)... 104.26.2.33, 172.67.70.149, 104.26.3.33, ...\n",
            "Connecting to cdn.freecodecamp.org (cdn.freecodecamp.org)|104.26.2.33|:443... connected.\n",
            "HTTP request sent, awaiting response... 200 OK\n",
            "Length: 358233 (350K) [text/tab-separated-values]\n",
            "Saving to: ‘train-data.tsv.1’\n",
            "\n",
            "train-data.tsv.1    100%[===================>] 349.84K  --.-KB/s    in 0.06s   \n",
            "\n",
            "2025-04-25 18:03:03 (6.02 MB/s) - ‘train-data.tsv.1’ saved [358233/358233]\n",
            "\n",
            "--2025-04-25 18:03:03--  https://cdn.freecodecamp.org/project-data/sms/valid-data.tsv\n",
            "Resolving cdn.freecodecamp.org (cdn.freecodecamp.org)... 104.26.2.33, 172.67.70.149, 104.26.3.33, ...\n",
            "Connecting to cdn.freecodecamp.org (cdn.freecodecamp.org)|104.26.2.33|:443... connected.\n",
            "HTTP request sent, awaiting response... 200 OK\n",
            "Length: 118774 (116K) [text/tab-separated-values]\n",
            "Saving to: ‘valid-data.tsv.1’\n",
            "\n",
            "valid-data.tsv.1    100%[===================>] 115.99K  --.-KB/s    in 0.02s   \n",
            "\n",
            "2025-04-25 18:03:03 (6.01 MB/s) - ‘valid-data.tsv.1’ saved [118774/118774]\n",
            "\n"
          ]
        }
      ],
      "source": [
        "# get data files\n",
        "!wget https://cdn.freecodecamp.org/project-data/sms/train-data.tsv\n",
        "!wget https://cdn.freecodecamp.org/project-data/sms/valid-data.tsv\n",
        "\n",
        "train_file_path = \"train-data.tsv\"\n",
        "test_file_path = \"valid-data.tsv\""
      ]
    },
    {
      "cell_type": "code",
      "execution_count": 41,
      "metadata": {},
      "outputs": [
        {
          "data": {
            "text/plain": [
              "(      type                                            message\n",
              " 0        0  ahhhh...just woken up!had a bad dream about u ...\n",
              " 1        0                           you can never do nothing\n",
              " 2        0  now u sound like manky scouse boy steve,like! ...\n",
              " 3        0  mum say we wan to go then go... then she can s...\n",
              " 4        0  never y lei... i v lazy... got wat? dat day ü ...\n",
              " ...    ...                                                ...\n",
              " 4174     0  just woke up. yeesh its late. but i didn't fal...\n",
              " 4175     0  what do u reckon as need 2 arrange transport i...\n",
              " 4176     1  free entry into our £250 weekly competition ju...\n",
              " 4177     1  -pls stop bootydelious (32/f) is inviting you ...\n",
              " 4178     0  tell my  bad character which u dnt lik in me. ...\n",
              " \n",
              " [4179 rows x 2 columns],\n",
              "       type                                            message\n",
              " 0        0  i am in hospital da. . i will return home in e...\n",
              " 1        0         not much, just some textin'. how bout you?\n",
              " 2        0  i probably won't eat at all today. i think i'm...\n",
              " 3        0  don‘t give a flying monkeys wot they think and...\n",
              " 4        0                                who are you seeing?\n",
              " ...    ...                                                ...\n",
              " 1387     0  true dear..i sat to pray evening and felt so.s...\n",
              " 1388     0               what will we do in the shower, baby?\n",
              " 1389     0  where are you ? what are you doing ? are yuou ...\n",
              " 1390     1  ur cash-balance is currently 500 pounds - to m...\n",
              " 1391     1  not heard from u4 a while. call 4 rude chat pr...\n",
              " \n",
              " [1392 rows x 2 columns])"
            ]
          },
          "execution_count": 41,
          "metadata": {},
          "output_type": "execute_result"
        }
      ],
      "source": [
        "train_file = pd.read_csv(train_file_path, sep=\"\\t\", names=[\"type\", \"message\"])\n",
        "train_file[\"type\"] = train_file[\"type\"].astype(\"category\").cat.codes\n",
        "\n",
        "test_file = pd.read_csv(test_file_path, sep=\"\\t\", names=[\"type\", \"message\"])\n",
        "test_file[\"type\"] = test_file[\"type\"].astype(\"category\").cat.codes\n",
        "\n",
        "train_file, test_file"
      ]
    },
    {
      "cell_type": "code",
      "execution_count": 7,
      "metadata": {},
      "outputs": [],
      "source": [
        "MAX_VOCAB = 1000\n",
        "MAX_LEN = 100"
      ]
    },
    {
      "cell_type": "code",
      "execution_count": 10,
      "metadata": {},
      "outputs": [],
      "source": [
        "vec = TextVectorization(max_tokens=MAX_VOCAB, output_sequence_length=MAX_LEN, output_mode=\"int\")\n",
        "vec.adapt(train_file[\"message\"].values)"
      ]
    },
    {
      "cell_type": "code",
      "execution_count": 38,
      "metadata": {},
      "outputs": [
        {
          "name": "stdout",
          "output_type": "stream",
          "text": [
            "Epoch 1/10\n",
            "\u001b[1m131/131\u001b[0m \u001b[32m━━━━━━━━━━━━━━━━━━━━\u001b[0m\u001b[37m\u001b[0m \u001b[1m1s\u001b[0m 5ms/step - accuracy: 0.8663 - loss: 0.4476 - val_accuracy: 0.9749 - val_loss: 0.0863\n",
            "Epoch 2/10\n",
            "\u001b[1m131/131\u001b[0m \u001b[32m━━━━━━━━━━━━━━━━━━━━\u001b[0m\u001b[37m\u001b[0m \u001b[1m1s\u001b[0m 4ms/step - accuracy: 0.9818 - loss: 0.0600 - val_accuracy: 0.9820 - val_loss: 0.0627\n",
            "Epoch 3/10\n",
            "\u001b[1m131/131\u001b[0m \u001b[32m━━━━━━━━━━━━━━━━━━━━\u001b[0m\u001b[37m\u001b[0m \u001b[1m1s\u001b[0m 4ms/step - accuracy: 0.9927 - loss: 0.0269 - val_accuracy: 0.9828 - val_loss: 0.0543\n",
            "Epoch 4/10\n",
            "\u001b[1m131/131\u001b[0m \u001b[32m━━━━━━━━━━━━━━━━━━━━\u001b[0m\u001b[37m\u001b[0m \u001b[1m1s\u001b[0m 4ms/step - accuracy: 0.9965 - loss: 0.0152 - val_accuracy: 0.9820 - val_loss: 0.0575\n",
            "Epoch 5/10\n",
            "\u001b[1m131/131\u001b[0m \u001b[32m━━━━━━━━━━━━━━━━━━━━\u001b[0m\u001b[37m\u001b[0m \u001b[1m1s\u001b[0m 4ms/step - accuracy: 0.9992 - loss: 0.0065 - val_accuracy: 0.9820 - val_loss: 0.0574\n",
            "Epoch 6/10\n",
            "\u001b[1m131/131\u001b[0m \u001b[32m━━━━━━━━━━━━━━━━━━━━\u001b[0m\u001b[37m\u001b[0m \u001b[1m1s\u001b[0m 4ms/step - accuracy: 0.9995 - loss: 0.0033 - val_accuracy: 0.9828 - val_loss: 0.0595\n",
            "Epoch 7/10\n",
            "\u001b[1m131/131\u001b[0m \u001b[32m━━━━━━━━━━━━━━━━━━━━\u001b[0m\u001b[37m\u001b[0m \u001b[1m1s\u001b[0m 4ms/step - accuracy: 0.9996 - loss: 0.0017 - val_accuracy: 0.9828 - val_loss: 0.0621\n",
            "Epoch 8/10\n",
            "\u001b[1m131/131\u001b[0m \u001b[32m━━━━━━━━━━━━━━━━━━━━\u001b[0m\u001b[37m\u001b[0m \u001b[1m1s\u001b[0m 4ms/step - accuracy: 0.9999 - loss: 0.0013 - val_accuracy: 0.9842 - val_loss: 0.0660\n",
            "Epoch 9/10\n",
            "\u001b[1m131/131\u001b[0m \u001b[32m━━━━━━━━━━━━━━━━━━━━\u001b[0m\u001b[37m\u001b[0m \u001b[1m1s\u001b[0m 4ms/step - accuracy: 0.9999 - loss: 0.0010 - val_accuracy: 0.9820 - val_loss: 0.0693\n",
            "Epoch 10/10\n",
            "\u001b[1m131/131\u001b[0m \u001b[32m━━━━━━━━━━━━━━━━━━━━\u001b[0m\u001b[37m\u001b[0m \u001b[1m1s\u001b[0m 4ms/step - accuracy: 0.9991 - loss: 0.0030 - val_accuracy: 0.9835 - val_loss: 0.0719\n"
          ]
        },
        {
          "data": {
            "text/plain": [
              "<keras.src.callbacks.history.History at 0x7f240c77ecb0>"
            ]
          },
          "execution_count": 38,
          "metadata": {},
          "output_type": "execute_result"
        }
      ],
      "source": [
        "model = Sequential([\n",
        "    vec,\n",
        "    Embedding(MAX_VOCAB, 64),\n",
        "    Conv1D(64, 5, activation='relu'),\n",
        "    GlobalMaxPooling1D(),\n",
        "    Dense(64, activation=\"relu\"),\n",
        "    Dense(1, activation=\"sigmoid\"),\n",
        "])\n",
        "model.compile(optimizer=\"adam\", loss=\"binary_crossentropy\", metrics=[\"accuracy\"])\n",
        "model.fit(train_file[\"message\"].values, train_file[\"type\"].values, validation_data=(test_file[\"message\"].values, test_file[\"type\"].values), epochs=10, batch_size=32)"
      ]
    },
    {
      "cell_type": "code",
      "execution_count": 39,
      "metadata": {
        "id": "J9tD9yACG6M9"
      },
      "outputs": [
        {
          "name": "stdout",
          "output_type": "stream",
          "text": [
            "\u001b[1m1/1\u001b[0m \u001b[32m━━━━━━━━━━━━━━━━━━━━\u001b[0m\u001b[37m\u001b[0m \u001b[1m0s\u001b[0m 54ms/step\n",
            "[3.156054049213708e-07, 'ham']\n"
          ]
        }
      ],
      "source": [
        "# function to predict messages based on model\n",
        "# (should return list containing prediction and label, ex. [0.008318834938108921, 'ham'])\n",
        "def predict_message(pred_text):\n",
        "  prob = model.predict(tf.constant([pred_text]))[0][0]\n",
        "  return [float(prob), \"spam\" if prob > 0.4 else \"ham\"]\n",
        "\n",
        "pred_text = \"how are you doing today?\"\n",
        "\n",
        "prediction = predict_message(pred_text)\n",
        "print(prediction)"
      ]
    },
    {
      "cell_type": "code",
      "execution_count": 40,
      "metadata": {
        "id": "Dxotov85SjsC"
      },
      "outputs": [
        {
          "name": "stdout",
          "output_type": "stream",
          "text": [
            "\u001b[1m1/1\u001b[0m \u001b[32m━━━━━━━━━━━━━━━━━━━━\u001b[0m\u001b[37m\u001b[0m \u001b[1m0s\u001b[0m 20ms/step\n",
            "\u001b[1m1/1\u001b[0m \u001b[32m━━━━━━━━━━━━━━━━━━━━\u001b[0m\u001b[37m\u001b[0m \u001b[1m0s\u001b[0m 20ms/step\n",
            "\u001b[1m1/1\u001b[0m \u001b[32m━━━━━━━━━━━━━━━━━━━━\u001b[0m\u001b[37m\u001b[0m \u001b[1m0s\u001b[0m 20ms/step\n",
            "\u001b[1m1/1\u001b[0m \u001b[32m━━━━━━━━━━━━━━━━━━━━\u001b[0m\u001b[37m\u001b[0m \u001b[1m0s\u001b[0m 20ms/step\n",
            "\u001b[1m1/1\u001b[0m \u001b[32m━━━━━━━━━━━━━━━━━━━━\u001b[0m\u001b[37m\u001b[0m \u001b[1m0s\u001b[0m 19ms/step\n",
            "\u001b[1m1/1\u001b[0m \u001b[32m━━━━━━━━━━━━━━━━━━━━\u001b[0m\u001b[37m\u001b[0m \u001b[1m0s\u001b[0m 21ms/step\n",
            "\u001b[1m1/1\u001b[0m \u001b[32m━━━━━━━━━━━━━━━━━━━━\u001b[0m\u001b[37m\u001b[0m \u001b[1m0s\u001b[0m 20ms/step\n",
            "You passed the challenge. Great job!\n"
          ]
        }
      ],
      "source": [
        "# Run this cell to test your function and model. Do not modify contents.\n",
        "def test_predictions():\n",
        "  test_messages = [\"how are you doing today\",\n",
        "                   \"sale today! to stop texts call 98912460324\",\n",
        "                   \"i dont want to go. can we try it a different day? available sat\",\n",
        "                   \"our new mobile video service is live. just install on your phone to start watching.\",\n",
        "                   \"you have won £1000 cash! call to claim your prize.\",\n",
        "                   \"i'll bring it tomorrow. don't forget the milk.\",\n",
        "                   \"wow, is your arm alright. that happened to me one time too\"\n",
        "                  ]\n",
        "\n",
        "  test_answers = [\"ham\", \"spam\", \"ham\", \"spam\", \"spam\", \"ham\", \"ham\"]\n",
        "  passed = True\n",
        "\n",
        "  for msg, ans in zip(test_messages, test_answers):\n",
        "    prediction = predict_message(msg)\n",
        "    if prediction[1] != ans:\n",
        "      passed = False\n",
        "\n",
        "  if passed:\n",
        "    print(\"You passed the challenge. Great job!\")\n",
        "  else:\n",
        "    print(\"You haven't passed yet. Keep trying.\")\n",
        "\n",
        "test_predictions()"
      ]
    }
  ],
  "metadata": {
    "colab": {
      "name": "fcc_sms_text_classification.ipynb",
      "private_outputs": true,
      "provenance": [],
      "toc_visible": true
    },
    "kernelspec": {
      "display_name": "fcc",
      "language": "python",
      "name": "python3"
    },
    "language_info": {
      "codemirror_mode": {
        "name": "ipython",
        "version": 3
      },
      "file_extension": ".py",
      "mimetype": "text/x-python",
      "name": "python",
      "nbconvert_exporter": "python",
      "pygments_lexer": "ipython3",
      "version": "3.10.16"
    }
  },
  "nbformat": 4,
  "nbformat_minor": 0
}
